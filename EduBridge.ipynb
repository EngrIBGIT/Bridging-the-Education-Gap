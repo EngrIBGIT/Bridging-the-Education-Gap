{
 "cells": [
  {
   "cell_type": "markdown",
   "id": "b95ecd4c-4486-4398-b533-8c446a6fff3c",
   "metadata": {},
   "source": [
    "#  Bridging the Education Gap\n",
    "\n",
    "## Objective\n",
    "The project focuses on identifying gaps in education access, infrastructure, and resources in underserved communities, to foster community engagement and improve education quality and inclusivity.\n",
    "\n",
    "## Datasets Overview\n",
    "We will analyze 8 datasets with headers such as demographic information, school types, learner enrollment, teaching staff data, and infrastructure data. The analysis will identify patterns, disparities, and areas of improvement, ensuring actionable recommendations.\n",
    "\n",
    "***Utilize the provided datasets:***\n",
    "\n",
    "- `Demographic Data`: Regional and community details.\n",
    "- `Age Category Data`: Age distribution of learners.\n",
    "- `Type of Schools`: Types of schools (e.g., nomadic, special needs).\n",
    "- `Enrollment Data`: Student enrollment by region and school type.\n",
    "- `Teacher Data`: Availability and qualifications of teaching staff.\n",
    "- `Infrastructure Data`: Information on classrooms, libraries, and other resources.\n",
    "- `Learner Resources Data`: Availability of textbooks and materials.\n",
    "\n",
    "\n",
    "### Key Questions to Address:\n",
    "\n",
    "- Which regions have the most significant education gaps in terms of enrollment, resources, or infrastructure?\n",
    "- How does the availability of qualified teachers vary across regions?\n",
    "- What types of schools (e.g., special needs, nomadic) are underrepresented in underserved communities?\n",
    "- Are there infrastructure challenges (e.g., insufficient classrooms or poor facilities) that hinder quality education?\n",
    "- What role does community engagement play in addressing these gaps?"
   ]
  },
  {
   "cell_type": "code",
   "execution_count": 1,
   "id": "87bf5a94-e7c8-491c-92b3-9e00c4278e52",
   "metadata": {},
   "outputs": [],
   "source": [
    "import pandas as pd\n",
    "import numpy as np\n",
    "import matplotlib.pyplot as plt\n",
    "import seaborn as sns\n",
    "import geopandas as gpd\n",
    "import pickle\n",
    "import joblib\n",
    "\n",
    "from sklearn.preprocessing import StandardScaler\n",
    "from sklearn.model_selection import train_test_split\n",
    "from sklearn.ensemble import RandomForestRegressor\n",
    "from sklearn.metrics import mean_squared_error\n",
    "from sklearn.linear_model import LinearRegression\n",
    "from sklearn.preprocessing import LabelEncoder\n",
    "\n",
    "from sklearn.metrics import r2_score\n",
    "\n",
    "\n",
    "sns.set_style('darkgrid')\n",
    "%matplotlib inline"
   ]
  },
  {
   "cell_type": "code",
   "execution_count": 2,
   "id": "6c83c645-0239-4055-93d4-db048f3c56f6",
   "metadata": {},
   "outputs": [],
   "source": [
    "# Load datasets\n",
    "demographic_data = pd.read_excel('New DATA SHEETS.xlsx', 'Demographic Data')\n",
    "agecategory_data = pd.read_excel('New DATA SHEETS.xlsx', 'Age Category')\n",
    "typeofsch_data = pd.read_excel('New DATA SHEETS.xlsx', 'Type Of Schools(sub-schools)')\n",
    "enrolment_data = pd.read_excel('New DATA SHEETS.xlsx', 'Learners Enrolment ')\n",
    "teacher_data = pd.read_excel('New DATA SHEETS.xlsx', 'Teaching Staff Data')\n",
    "teacherspecial_data = pd.read_excel('New DATA SHEETS.xlsx', 'Teaching Staff In Special Prog')\n",
    "infrastructure_data = pd.read_excel('New DATA SHEETS.xlsx', 'Infrastructure Data')\n",
    "leanresource_data = pd.read_excel('New DATA SHEETS.xlsx', 'Learners Resources')"
   ]
  },
  {
   "cell_type": "code",
   "execution_count": 3,
   "id": "d91f8633-bd70-48f6-9ad1-4aa311338da7",
   "metadata": {},
   "outputs": [
    {
     "data": {
      "text/html": [
       "<div>\n",
       "<style scoped>\n",
       "    .dataframe tbody tr th:only-of-type {\n",
       "        vertical-align: middle;\n",
       "    }\n",
       "\n",
       "    .dataframe tbody tr th {\n",
       "        vertical-align: top;\n",
       "    }\n",
       "\n",
       "    .dataframe thead th {\n",
       "        text-align: right;\n",
       "    }\n",
       "</style>\n",
       "<table border=\"1\" class=\"dataframe\">\n",
       "  <thead>\n",
       "    <tr style=\"text-align: right;\">\n",
       "      <th></th>\n",
       "      <th>Demographic information</th>\n",
       "      <th>Sub-Schools</th>\n",
       "      <th>Male</th>\n",
       "      <th>Female</th>\n",
       "      <th>Total</th>\n",
       "      <th>North Central</th>\n",
       "      <th>North East</th>\n",
       "      <th>North West</th>\n",
       "      <th>South East</th>\n",
       "      <th>South South</th>\n",
       "      <th>South West</th>\n",
       "    </tr>\n",
       "  </thead>\n",
       "  <tbody>\n",
       "    <tr>\n",
       "      <th>0</th>\n",
       "      <td>Age 0 - 2</td>\n",
       "      <td>ECCDE/Pre-Primary</td>\n",
       "      <td>1.019805e+07</td>\n",
       "      <td>9.416753e+06</td>\n",
       "      <td>1.961480e+07</td>\n",
       "      <td>2.848128e+06</td>\n",
       "      <td>2.682823e+06</td>\n",
       "      <td>4.897113e+06</td>\n",
       "      <td>2.313476e+06</td>\n",
       "      <td>2.809582e+06</td>\n",
       "      <td>4.063681e+06</td>\n",
       "    </tr>\n",
       "    <tr>\n",
       "      <th>1</th>\n",
       "      <td>Age 3</td>\n",
       "      <td>ECCDE/Pre-Primary</td>\n",
       "      <td>2.968089e+06</td>\n",
       "      <td>2.983723e+06</td>\n",
       "      <td>5.951812e+06</td>\n",
       "      <td>1.101353e+06</td>\n",
       "      <td>9.368663e+05</td>\n",
       "      <td>1.440507e+06</td>\n",
       "      <td>5.775644e+05</td>\n",
       "      <td>9.667335e+05</td>\n",
       "      <td>9.287872e+05</td>\n",
       "    </tr>\n",
       "  </tbody>\n",
       "</table>\n",
       "</div>"
      ],
      "text/plain": [
       "  Demographic information        Sub-Schools          Male        Female  \\\n",
       "0               Age 0 - 2  ECCDE/Pre-Primary  1.019805e+07  9.416753e+06   \n",
       "1                   Age 3  ECCDE/Pre-Primary  2.968089e+06  2.983723e+06   \n",
       "\n",
       "          Total  North Central    North East    North West    South East  \\\n",
       "0  1.961480e+07   2.848128e+06  2.682823e+06  4.897113e+06  2.313476e+06   \n",
       "1  5.951812e+06   1.101353e+06  9.368663e+05  1.440507e+06  5.775644e+05   \n",
       "\n",
       "    South South    South West  \n",
       "0  2.809582e+06  4.063681e+06  \n",
       "1  9.667335e+05  9.287872e+05  "
      ]
     },
     "execution_count": 3,
     "metadata": {},
     "output_type": "execute_result"
    }
   ],
   "source": [
    "demographic_data.head(2)"
   ]
  },
  {
   "cell_type": "code",
   "execution_count": 4,
   "id": "67a8a88e-b3c7-43a6-a981-788ddc0283e2",
   "metadata": {},
   "outputs": [
    {
     "data": {
      "text/html": [
       "<div>\n",
       "<style scoped>\n",
       "    .dataframe tbody tr th:only-of-type {\n",
       "        vertical-align: middle;\n",
       "    }\n",
       "\n",
       "    .dataframe tbody tr th {\n",
       "        vertical-align: top;\n",
       "    }\n",
       "\n",
       "    .dataframe thead th {\n",
       "        text-align: right;\n",
       "    }\n",
       "</style>\n",
       "<table border=\"1\" class=\"dataframe\">\n",
       "  <thead>\n",
       "    <tr style=\"text-align: right;\">\n",
       "      <th></th>\n",
       "      <th>Demographic information</th>\n",
       "      <th>Sub-Schools</th>\n",
       "    </tr>\n",
       "  </thead>\n",
       "  <tbody>\n",
       "    <tr>\n",
       "      <th>0</th>\n",
       "      <td>Age 0 - 2</td>\n",
       "      <td>ECCDE/Pre-Primary</td>\n",
       "    </tr>\n",
       "    <tr>\n",
       "      <th>1</th>\n",
       "      <td>Age 3</td>\n",
       "      <td>ECCDE/Pre-Primary</td>\n",
       "    </tr>\n",
       "  </tbody>\n",
       "</table>\n",
       "</div>"
      ],
      "text/plain": [
       "  Demographic information        Sub-Schools\n",
       "0               Age 0 - 2  ECCDE/Pre-Primary\n",
       "1                   Age 3  ECCDE/Pre-Primary"
      ]
     },
     "execution_count": 4,
     "metadata": {},
     "output_type": "execute_result"
    }
   ],
   "source": [
    "agecategory_data.head(2)"
   ]
  },
  {
   "cell_type": "code",
   "execution_count": 5,
   "id": "6ee7f687-3ccb-4d14-a404-f9aa2490eaac",
   "metadata": {},
   "outputs": [
    {
     "data": {
      "text/html": [
       "<div>\n",
       "<style scoped>\n",
       "    .dataframe tbody tr th:only-of-type {\n",
       "        vertical-align: middle;\n",
       "    }\n",
       "\n",
       "    .dataframe tbody tr th {\n",
       "        vertical-align: top;\n",
       "    }\n",
       "\n",
       "    .dataframe thead th {\n",
       "        text-align: right;\n",
       "    }\n",
       "</style>\n",
       "<table border=\"1\" class=\"dataframe\">\n",
       "  <thead>\n",
       "    <tr style=\"text-align: right;\">\n",
       "      <th></th>\n",
       "      <th>Sub-Schools</th>\n",
       "      <th>Type of Schools</th>\n",
       "      <th>Total</th>\n",
       "      <th>North Central</th>\n",
       "      <th>North East</th>\n",
       "      <th>North West</th>\n",
       "      <th>South East</th>\n",
       "      <th>South South</th>\n",
       "      <th>South West</th>\n",
       "    </tr>\n",
       "  </thead>\n",
       "  <tbody>\n",
       "    <tr>\n",
       "      <th>0</th>\n",
       "      <td>ECCDE/Pre-Primary</td>\n",
       "      <td>Conventional</td>\n",
       "      <td>45878</td>\n",
       "      <td>8319</td>\n",
       "      <td>2149</td>\n",
       "      <td>3162</td>\n",
       "      <td>5848</td>\n",
       "      <td>7848</td>\n",
       "      <td>18552</td>\n",
       "    </tr>\n",
       "    <tr>\n",
       "      <th>1</th>\n",
       "      <td>ECCDE/Pre-Primary</td>\n",
       "      <td>Special Needs</td>\n",
       "      <td>241</td>\n",
       "      <td>53</td>\n",
       "      <td>40</td>\n",
       "      <td>29</td>\n",
       "      <td>22</td>\n",
       "      <td>45</td>\n",
       "      <td>52</td>\n",
       "    </tr>\n",
       "  </tbody>\n",
       "</table>\n",
       "</div>"
      ],
      "text/plain": [
       "         Sub-Schools Type of Schools  Total  North Central  North East  \\\n",
       "0  ECCDE/Pre-Primary    Conventional  45878           8319        2149   \n",
       "1  ECCDE/Pre-Primary   Special Needs    241             53          40   \n",
       "\n",
       "   North West  South East  South South  South West  \n",
       "0        3162        5848         7848       18552  \n",
       "1          29          22           45          52  "
      ]
     },
     "execution_count": 5,
     "metadata": {},
     "output_type": "execute_result"
    }
   ],
   "source": [
    "typeofsch_data.head(2)"
   ]
  },
  {
   "cell_type": "code",
   "execution_count": 6,
   "id": "795feeef-ab2c-49b9-bd6a-cc334977be73",
   "metadata": {},
   "outputs": [
    {
     "data": {
      "text/html": [
       "<div>\n",
       "<style scoped>\n",
       "    .dataframe tbody tr th:only-of-type {\n",
       "        vertical-align: middle;\n",
       "    }\n",
       "\n",
       "    .dataframe tbody tr th {\n",
       "        vertical-align: top;\n",
       "    }\n",
       "\n",
       "    .dataframe thead th {\n",
       "        text-align: right;\n",
       "    }\n",
       "</style>\n",
       "<table border=\"1\" class=\"dataframe\">\n",
       "  <thead>\n",
       "    <tr style=\"text-align: right;\">\n",
       "      <th></th>\n",
       "      <th>Sub-Schools</th>\n",
       "      <th>Type of Schools</th>\n",
       "      <th>Male</th>\n",
       "      <th>Female</th>\n",
       "      <th>Total</th>\n",
       "      <th>North Central</th>\n",
       "      <th>North East</th>\n",
       "      <th>North West</th>\n",
       "      <th>South East</th>\n",
       "      <th>South South</th>\n",
       "      <th>South West</th>\n",
       "    </tr>\n",
       "  </thead>\n",
       "  <tbody>\n",
       "    <tr>\n",
       "      <th>0</th>\n",
       "      <td>ECCDE/Pre-Primary</td>\n",
       "      <td>Conventional</td>\n",
       "      <td>3289081</td>\n",
       "      <td>3179945</td>\n",
       "      <td>6469026</td>\n",
       "      <td>852650</td>\n",
       "      <td>475184</td>\n",
       "      <td>1245128</td>\n",
       "      <td>1036354</td>\n",
       "      <td>1186739</td>\n",
       "      <td>1672971</td>\n",
       "    </tr>\n",
       "    <tr>\n",
       "      <th>1</th>\n",
       "      <td>ECCDE/Pre-Primary</td>\n",
       "      <td>Islamiyya</td>\n",
       "      <td>208841</td>\n",
       "      <td>303708</td>\n",
       "      <td>512549</td>\n",
       "      <td>35218</td>\n",
       "      <td>59008</td>\n",
       "      <td>392937</td>\n",
       "      <td>240</td>\n",
       "      <td>518</td>\n",
       "      <td>24628</td>\n",
       "    </tr>\n",
       "  </tbody>\n",
       "</table>\n",
       "</div>"
      ],
      "text/plain": [
       "         Sub-Schools Type of Schools     Male   Female    Total  \\\n",
       "0  ECCDE/Pre-Primary   Conventional   3289081  3179945  6469026   \n",
       "1  ECCDE/Pre-Primary      Islamiyya    208841   303708   512549   \n",
       "\n",
       "   North Central  North East  North West  South East  South South  South West  \n",
       "0         852650      475184     1245128     1036354      1186739     1672971  \n",
       "1          35218       59008      392937         240          518       24628  "
      ]
     },
     "execution_count": 6,
     "metadata": {},
     "output_type": "execute_result"
    }
   ],
   "source": [
    "enrolment_data.head(2)"
   ]
  },
  {
   "cell_type": "code",
   "execution_count": 7,
   "id": "d547d2f2-3c94-4409-b654-a69b47b6ba69",
   "metadata": {},
   "outputs": [
    {
     "data": {
      "text/html": [
       "<div>\n",
       "<style scoped>\n",
       "    .dataframe tbody tr th:only-of-type {\n",
       "        vertical-align: middle;\n",
       "    }\n",
       "\n",
       "    .dataframe tbody tr th {\n",
       "        vertical-align: top;\n",
       "    }\n",
       "\n",
       "    .dataframe thead th {\n",
       "        text-align: right;\n",
       "    }\n",
       "</style>\n",
       "<table border=\"1\" class=\"dataframe\">\n",
       "  <thead>\n",
       "    <tr style=\"text-align: right;\">\n",
       "      <th></th>\n",
       "      <th>Sub-Schools</th>\n",
       "      <th>Teaching Staff</th>\n",
       "      <th>Male</th>\n",
       "      <th>Female</th>\n",
       "      <th>Total</th>\n",
       "      <th>North Central</th>\n",
       "      <th>North East</th>\n",
       "      <th>North West</th>\n",
       "      <th>South East</th>\n",
       "      <th>South South</th>\n",
       "      <th>South West</th>\n",
       "    </tr>\n",
       "  </thead>\n",
       "  <tbody>\n",
       "    <tr>\n",
       "      <th>0</th>\n",
       "      <td>ECCDE/Pre-Primary</td>\n",
       "      <td>Teachers in ECCDE/Pre-Primary Schools</td>\n",
       "      <td>13637</td>\n",
       "      <td>140580</td>\n",
       "      <td>154217</td>\n",
       "      <td>27303</td>\n",
       "      <td>9572</td>\n",
       "      <td>18532</td>\n",
       "      <td>25229</td>\n",
       "      <td>29290</td>\n",
       "      <td>44291</td>\n",
       "    </tr>\n",
       "    <tr>\n",
       "      <th>1</th>\n",
       "      <td>ECCDE/Pre-Primary</td>\n",
       "      <td>Qualified teachers in ECCDE/Pre-Primary Schools</td>\n",
       "      <td>6633</td>\n",
       "      <td>81853</td>\n",
       "      <td>88486</td>\n",
       "      <td>17001</td>\n",
       "      <td>5475</td>\n",
       "      <td>11015</td>\n",
       "      <td>14903</td>\n",
       "      <td>16668</td>\n",
       "      <td>23424</td>\n",
       "    </tr>\n",
       "  </tbody>\n",
       "</table>\n",
       "</div>"
      ],
      "text/plain": [
       "         Sub-Schools                                   Teaching Staff   Male  \\\n",
       "0  ECCDE/Pre-Primary            Teachers in ECCDE/Pre-Primary Schools  13637   \n",
       "1  ECCDE/Pre-Primary  Qualified teachers in ECCDE/Pre-Primary Schools   6633   \n",
       "\n",
       "   Female   Total  North Central  North East  North West  South East  \\\n",
       "0  140580  154217          27303        9572       18532       25229   \n",
       "1   81853   88486          17001        5475       11015       14903   \n",
       "\n",
       "   South South  South West  \n",
       "0        29290       44291  \n",
       "1        16668       23424  "
      ]
     },
     "execution_count": 7,
     "metadata": {},
     "output_type": "execute_result"
    }
   ],
   "source": [
    "teacher_data.head(2)"
   ]
  },
  {
   "cell_type": "code",
   "execution_count": 8,
   "id": "ea569c22-570a-4ecf-9490-0a5000897a6c",
   "metadata": {},
   "outputs": [
    {
     "data": {
      "text/html": [
       "<div>\n",
       "<style scoped>\n",
       "    .dataframe tbody tr th:only-of-type {\n",
       "        vertical-align: middle;\n",
       "    }\n",
       "\n",
       "    .dataframe tbody tr th {\n",
       "        vertical-align: top;\n",
       "    }\n",
       "\n",
       "    .dataframe thead th {\n",
       "        text-align: right;\n",
       "    }\n",
       "</style>\n",
       "<table border=\"1\" class=\"dataframe\">\n",
       "  <thead>\n",
       "    <tr style=\"text-align: right;\">\n",
       "      <th></th>\n",
       "      <th>Type of Schools</th>\n",
       "      <th>Teaching Staff In Special Programmes</th>\n",
       "      <th>Male</th>\n",
       "      <th>Female</th>\n",
       "      <th>Total</th>\n",
       "      <th>North Central</th>\n",
       "      <th>North East</th>\n",
       "      <th>North West</th>\n",
       "      <th>South East</th>\n",
       "      <th>South South</th>\n",
       "      <th>South West</th>\n",
       "    </tr>\n",
       "  </thead>\n",
       "  <tbody>\n",
       "    <tr>\n",
       "      <th>0</th>\n",
       "      <td>Special Needs</td>\n",
       "      <td>Teaching Staff In Special Needs</td>\n",
       "      <td>3257</td>\n",
       "      <td>3763</td>\n",
       "      <td>7020</td>\n",
       "      <td>1422</td>\n",
       "      <td>1243</td>\n",
       "      <td>1948</td>\n",
       "      <td>492</td>\n",
       "      <td>657</td>\n",
       "      <td>1258</td>\n",
       "    </tr>\n",
       "    <tr>\n",
       "      <th>1</th>\n",
       "      <td>Nomadic</td>\n",
       "      <td>Teaching Staff In Nomadic</td>\n",
       "      <td>7124</td>\n",
       "      <td>2495</td>\n",
       "      <td>9619</td>\n",
       "      <td>2083</td>\n",
       "      <td>2219</td>\n",
       "      <td>3837</td>\n",
       "      <td>275</td>\n",
       "      <td>290</td>\n",
       "      <td>915</td>\n",
       "    </tr>\n",
       "  </tbody>\n",
       "</table>\n",
       "</div>"
      ],
      "text/plain": [
       "  Type of Schools Teaching Staff In Special Programmes  Male  Female  Total  \\\n",
       "0   Special Needs      Teaching Staff In Special Needs  3257    3763   7020   \n",
       "1         Nomadic            Teaching Staff In Nomadic  7124    2495   9619   \n",
       "\n",
       "   North Central  North East  North West  South East  South South  South West  \n",
       "0           1422        1243        1948         492          657        1258  \n",
       "1           2083        2219        3837         275          290         915  "
      ]
     },
     "execution_count": 8,
     "metadata": {},
     "output_type": "execute_result"
    }
   ],
   "source": [
    "teacherspecial_data.head(2)"
   ]
  },
  {
   "cell_type": "code",
   "execution_count": 9,
   "id": "b4900572-16e2-4eeb-ae41-dc8dd8344eac",
   "metadata": {},
   "outputs": [
    {
     "data": {
      "text/html": [
       "<div>\n",
       "<style scoped>\n",
       "    .dataframe tbody tr th:only-of-type {\n",
       "        vertical-align: middle;\n",
       "    }\n",
       "\n",
       "    .dataframe tbody tr th {\n",
       "        vertical-align: top;\n",
       "    }\n",
       "\n",
       "    .dataframe thead th {\n",
       "        text-align: right;\n",
       "    }\n",
       "</style>\n",
       "<table border=\"1\" class=\"dataframe\">\n",
       "  <thead>\n",
       "    <tr style=\"text-align: right;\">\n",
       "      <th></th>\n",
       "      <th>Sub-Schools</th>\n",
       "      <th>School Facilities</th>\n",
       "      <th>Total</th>\n",
       "      <th>North Central</th>\n",
       "      <th>North East</th>\n",
       "      <th>North West</th>\n",
       "      <th>South East</th>\n",
       "      <th>South South</th>\n",
       "      <th>South West</th>\n",
       "    </tr>\n",
       "  </thead>\n",
       "  <tbody>\n",
       "    <tr>\n",
       "      <th>0</th>\n",
       "      <td>ECCDE/Pre-Primary</td>\n",
       "      <td>Classrooms in ECCDE/Pre-Primary</td>\n",
       "      <td>265841</td>\n",
       "      <td>41162</td>\n",
       "      <td>14897</td>\n",
       "      <td>31949</td>\n",
       "      <td>42714</td>\n",
       "      <td>48937</td>\n",
       "      <td>86182</td>\n",
       "    </tr>\n",
       "    <tr>\n",
       "      <th>1</th>\n",
       "      <td>ECCDE/Pre-Primary</td>\n",
       "      <td>Good Classrooms in ECCDE/Pre-Primary</td>\n",
       "      <td>213211</td>\n",
       "      <td>33542</td>\n",
       "      <td>10851</td>\n",
       "      <td>23087</td>\n",
       "      <td>30637</td>\n",
       "      <td>38653</td>\n",
       "      <td>76441</td>\n",
       "    </tr>\n",
       "  </tbody>\n",
       "</table>\n",
       "</div>"
      ],
      "text/plain": [
       "         Sub-Schools                       School Facilities   Total  \\\n",
       "0  ECCDE/Pre-Primary       Classrooms in ECCDE/Pre-Primary    265841   \n",
       "1  ECCDE/Pre-Primary  Good Classrooms in ECCDE/Pre-Primary    213211   \n",
       "\n",
       "   North Central  North East  North West  South East  South South  South West  \n",
       "0          41162       14897       31949       42714        48937       86182  \n",
       "1          33542       10851       23087       30637        38653       76441  "
      ]
     },
     "execution_count": 9,
     "metadata": {},
     "output_type": "execute_result"
    }
   ],
   "source": [
    "infrastructure_data.head(2)"
   ]
  },
  {
   "cell_type": "code",
   "execution_count": 10,
   "id": "e36520d2-4f77-4ea8-b45b-fbf8538fb248",
   "metadata": {},
   "outputs": [
    {
     "data": {
      "text/html": [
       "<div>\n",
       "<style scoped>\n",
       "    .dataframe tbody tr th:only-of-type {\n",
       "        vertical-align: middle;\n",
       "    }\n",
       "\n",
       "    .dataframe tbody tr th {\n",
       "        vertical-align: top;\n",
       "    }\n",
       "\n",
       "    .dataframe thead th {\n",
       "        text-align: right;\n",
       "    }\n",
       "</style>\n",
       "<table border=\"1\" class=\"dataframe\">\n",
       "  <thead>\n",
       "    <tr style=\"text-align: right;\">\n",
       "      <th></th>\n",
       "      <th>Sub-Schools</th>\n",
       "      <th>Learners Textbooks</th>\n",
       "      <th>Total</th>\n",
       "      <th>North Central</th>\n",
       "      <th>North East</th>\n",
       "      <th>North West</th>\n",
       "      <th>South East</th>\n",
       "      <th>South South</th>\n",
       "      <th>South West</th>\n",
       "    </tr>\n",
       "  </thead>\n",
       "  <tbody>\n",
       "    <tr>\n",
       "      <th>0</th>\n",
       "      <td>ECCDE/Pre-Primary</td>\n",
       "      <td>English</td>\n",
       "      <td>706439</td>\n",
       "      <td>102174</td>\n",
       "      <td>48697</td>\n",
       "      <td>144338</td>\n",
       "      <td>86791</td>\n",
       "      <td>105649</td>\n",
       "      <td>218790</td>\n",
       "    </tr>\n",
       "    <tr>\n",
       "      <th>1</th>\n",
       "      <td>ECCDE/Pre-Primary</td>\n",
       "      <td>Mathematics</td>\n",
       "      <td>596868</td>\n",
       "      <td>84461</td>\n",
       "      <td>43911</td>\n",
       "      <td>120245</td>\n",
       "      <td>72542</td>\n",
       "      <td>93218</td>\n",
       "      <td>182491</td>\n",
       "    </tr>\n",
       "  </tbody>\n",
       "</table>\n",
       "</div>"
      ],
      "text/plain": [
       "         Sub-Schools Learners Textbooks   Total  North Central  North East  \\\n",
       "0  ECCDE/Pre-Primary            English  706439         102174       48697   \n",
       "1  ECCDE/Pre-Primary        Mathematics  596868          84461       43911   \n",
       "\n",
       "   North West  South East  South South  South West  \n",
       "0      144338       86791       105649      218790  \n",
       "1      120245       72542        93218      182491  "
      ]
     },
     "execution_count": 10,
     "metadata": {},
     "output_type": "execute_result"
    }
   ],
   "source": [
    "leanresource_data.head(2)"
   ]
  },
  {
   "cell_type": "markdown",
   "id": "217cfc51-328f-4415-9dea-b84f220dfdc1",
   "metadata": {},
   "source": [
    "### Check for missing values"
   ]
  },
  {
   "cell_type": "code",
   "execution_count": 11,
   "id": "62927694-f939-4d6a-8acd-1ca3c988c5a7",
   "metadata": {},
   "outputs": [
    {
     "data": {
      "text/plain": [
       "Demographic information    0\n",
       "Sub-Schools                0\n",
       "dtype: int64"
      ]
     },
     "execution_count": 11,
     "metadata": {},
     "output_type": "execute_result"
    }
   ],
   "source": [
    "agecategory_data.isnull().sum()"
   ]
  },
  {
   "cell_type": "code",
   "execution_count": 12,
   "id": "579dc5d3-91ce-44c8-824f-5a047bb5d20c",
   "metadata": {},
   "outputs": [
    {
     "data": {
      "text/plain": [
       "Sub-Schools        0\n",
       "Type of Schools    0\n",
       "Total              0\n",
       "North Central      0\n",
       "North East         0\n",
       "North West         0\n",
       "South East         0\n",
       "South South        0\n",
       "South West         0\n",
       "dtype: int64"
      ]
     },
     "execution_count": 12,
     "metadata": {},
     "output_type": "execute_result"
    }
   ],
   "source": [
    "typeofsch_data.isnull().sum()"
   ]
  },
  {
   "cell_type": "code",
   "execution_count": 13,
   "id": "6963aacb-e067-4a47-9139-3a22858eb04b",
   "metadata": {},
   "outputs": [
    {
     "data": {
      "text/plain": [
       "Sub-Schools        0\n",
       "Type of Schools    0\n",
       "Male               0\n",
       "Female             0\n",
       "Total              0\n",
       "North Central      0\n",
       "North East         0\n",
       "North West         0\n",
       "South East         0\n",
       "South South        0\n",
       "South West         0\n",
       "dtype: int64"
      ]
     },
     "execution_count": 13,
     "metadata": {},
     "output_type": "execute_result"
    }
   ],
   "source": [
    "enrolment_data.isnull().sum()"
   ]
  },
  {
   "cell_type": "code",
   "execution_count": 14,
   "id": "ad3ef738-45a1-4d7d-b821-b8c8c7b6afd2",
   "metadata": {},
   "outputs": [
    {
     "data": {
      "text/plain": [
       "Sub-Schools       0\n",
       "Teaching Staff    0\n",
       "Male              0\n",
       "Female            0\n",
       "Total             0\n",
       "North Central     0\n",
       "North East        0\n",
       "North West        0\n",
       "South East        0\n",
       "South South       0\n",
       "South West        0\n",
       "dtype: int64"
      ]
     },
     "execution_count": 14,
     "metadata": {},
     "output_type": "execute_result"
    }
   ],
   "source": [
    "teacher_data.isnull().sum()"
   ]
  },
  {
   "cell_type": "code",
   "execution_count": 15,
   "id": "896a0060-8d8a-47e4-afc9-c93350cca6e5",
   "metadata": {},
   "outputs": [
    {
     "data": {
      "text/plain": [
       "Type of Schools                         0\n",
       "Teaching Staff In Special Programmes    0\n",
       "Male                                    0\n",
       "Female                                  0\n",
       "Total                                   0\n",
       "North Central                           0\n",
       "North East                              0\n",
       "North West                              0\n",
       "South East                              0\n",
       "South South                             0\n",
       "South West                              0\n",
       "dtype: int64"
      ]
     },
     "execution_count": 15,
     "metadata": {},
     "output_type": "execute_result"
    }
   ],
   "source": [
    "teacherspecial_data.isnull().sum()"
   ]
  },
  {
   "cell_type": "code",
   "execution_count": 16,
   "id": "406038db-f0f5-48d7-81d2-06e8103891a4",
   "metadata": {},
   "outputs": [
    {
     "data": {
      "text/plain": [
       "Sub-Schools          7\n",
       "School Facilities    0\n",
       "Total                0\n",
       "North Central        0\n",
       "North East           0\n",
       "North West           0\n",
       "South East           0\n",
       "South South          0\n",
       "South West           0\n",
       "dtype: int64"
      ]
     },
     "execution_count": 16,
     "metadata": {},
     "output_type": "execute_result"
    }
   ],
   "source": [
    "infrastructure_data.isnull().sum()"
   ]
  },
  {
   "cell_type": "code",
   "execution_count": 17,
   "id": "8ef85a64-88af-45c8-8228-758b377b90e8",
   "metadata": {},
   "outputs": [
    {
     "data": {
      "text/plain": [
       "Sub-Schools           0\n",
       "Learners Textbooks    0\n",
       "Total                 0\n",
       "North Central         0\n",
       "North East            0\n",
       "North West            0\n",
       "South East            0\n",
       "South South           0\n",
       "South West            0\n",
       "dtype: int64"
      ]
     },
     "execution_count": 17,
     "metadata": {},
     "output_type": "execute_result"
    }
   ],
   "source": [
    "leanresource_data.isnull().sum()"
   ]
  },
  {
   "cell_type": "markdown",
   "id": "5e8cec64-ad6d-4461-a673-1c0ff7aec8cb",
   "metadata": {},
   "source": [
    "### Exploratory Data Analysis (EDA) on Individual Datasets"
   ]
  },
  {
   "cell_type": "code",
   "execution_count": 18,
   "id": "17535d7b-46f9-4f71-8c77-e01f249f16bb",
   "metadata": {},
   "outputs": [],
   "source": [
    "# Infrastructure Availability\n",
    "#sns.heatmap(merged[['Classrooms', 'Libraries', 'Laboratories']].corr(), annot=True, cmap='coolwarm')\n",
    "#plt.title('Infrastructure Correlation Matrix')\n",
    "#plt.show()"
   ]
  },
  {
   "cell_type": "code",
   "execution_count": 19,
   "id": "ea22b5b8-913d-4605-890f-fa1acd47197a",
   "metadata": {},
   "outputs": [],
   "source": [
    "# Dropout Distribution\n",
    "#sns.histplot(merged['Dropout_Rate'], bins=20, kde=True)\n",
    "#plt.title('Distribution of Dropout Rates')\n",
    "#plt.show()"
   ]
  },
  {
   "cell_type": "markdown",
   "id": "4682d546-311d-41ab-a8f2-d3a287ed9da3",
   "metadata": {},
   "source": [
    "***Key Observations***\n",
    "\n",
    "- Identify regions with low enrollment and poor infrastructure.\n",
    "- Highlight teacher shortages in specific areas.\n",
    "- Note correlations between dropout rates and lack of infrastructure or teacher qualifications."
   ]
  },
  {
   "cell_type": "markdown",
   "id": "559034ab-af9b-4a03-b76d-bf438f95c847",
   "metadata": {},
   "source": [
    "Using the following to create the best prediction: \n",
    "- We can use the Learner’s Enrollment, Demographic data and also Type of schools to predict drop out rate for different regions and their age category. Also, factors contributing like lack of qualified teachers, lack of infrastructure: good classrooms, libraries etc.\n",
    "\n",
    "- Also, we can use Learners Resources to predict future demand for educational materials books.\n",
    "  \n",
    "- Also, Teaching Staff Data, to forecast teacher shortages in specific regions. To identify regions requiring urgent teacher training programs.\n",
    "  \n",
    "- Using the Type of Schools and demographic data to identify regions with low enrollment"
   ]
  },
  {
   "cell_type": "code",
   "execution_count": 20,
   "id": "a5a5a35c-155e-4dd6-bc25-6ef01e9e4e2d",
   "metadata": {},
   "outputs": [
    {
     "data": {
      "text/html": [
       "<div>\n",
       "<style scoped>\n",
       "    .dataframe tbody tr th:only-of-type {\n",
       "        vertical-align: middle;\n",
       "    }\n",
       "\n",
       "    .dataframe tbody tr th {\n",
       "        vertical-align: top;\n",
       "    }\n",
       "\n",
       "    .dataframe thead th {\n",
       "        text-align: right;\n",
       "    }\n",
       "</style>\n",
       "<table border=\"1\" class=\"dataframe\">\n",
       "  <thead>\n",
       "    <tr style=\"text-align: right;\">\n",
       "      <th></th>\n",
       "      <th>Sub-Schools</th>\n",
       "      <th>Type of Schools_x</th>\n",
       "      <th>Male_x</th>\n",
       "      <th>Female_x</th>\n",
       "      <th>Total_x</th>\n",
       "      <th>North Central_x</th>\n",
       "      <th>North East_x</th>\n",
       "      <th>North West_x</th>\n",
       "      <th>South East_x</th>\n",
       "      <th>South South_x</th>\n",
       "      <th>...</th>\n",
       "      <th>South West_y</th>\n",
       "      <th>Demographic information_y</th>\n",
       "      <th>Type of Schools_y</th>\n",
       "      <th>Total</th>\n",
       "      <th>North Central</th>\n",
       "      <th>North East</th>\n",
       "      <th>North West</th>\n",
       "      <th>South East</th>\n",
       "      <th>South South</th>\n",
       "      <th>South West</th>\n",
       "    </tr>\n",
       "  </thead>\n",
       "  <tbody>\n",
       "    <tr>\n",
       "      <th>0</th>\n",
       "      <td>ECCDE/Pre-Primary</td>\n",
       "      <td>Conventional</td>\n",
       "      <td>3289081</td>\n",
       "      <td>3179945</td>\n",
       "      <td>6469026</td>\n",
       "      <td>852650</td>\n",
       "      <td>475184</td>\n",
       "      <td>1245128</td>\n",
       "      <td>1036354</td>\n",
       "      <td>1186739</td>\n",
       "      <td>...</td>\n",
       "      <td>4.063681e+06</td>\n",
       "      <td>Age 0 - 2</td>\n",
       "      <td>Conventional</td>\n",
       "      <td>45878</td>\n",
       "      <td>8319</td>\n",
       "      <td>2149</td>\n",
       "      <td>3162</td>\n",
       "      <td>5848</td>\n",
       "      <td>7848</td>\n",
       "      <td>18552</td>\n",
       "    </tr>\n",
       "  </tbody>\n",
       "</table>\n",
       "<p>1 rows × 30 columns</p>\n",
       "</div>"
      ],
      "text/plain": [
       "         Sub-Schools Type of Schools_x   Male_x  Female_x  Total_x  \\\n",
       "0  ECCDE/Pre-Primary     Conventional   3289081   3179945  6469026   \n",
       "\n",
       "   North Central_x  North East_x  North West_x  South East_x  South South_x  \\\n",
       "0           852650        475184       1245128       1036354        1186739   \n",
       "\n",
       "   ...  South West_y Demographic information_y  Type of Schools_y  Total  \\\n",
       "0  ...  4.063681e+06                 Age 0 - 2       Conventional  45878   \n",
       "\n",
       "   North Central  North East  North West  South East  South South  South West  \n",
       "0           8319        2149        3162        5848         7848       18552  \n",
       "\n",
       "[1 rows x 30 columns]"
      ]
     },
     "execution_count": 20,
     "metadata": {},
     "output_type": "execute_result"
    }
   ],
   "source": [
    "# Merge demographic and age category data\n",
    "merged = pd.merge(demographic_data, agecategory_data, \n",
    "                           left_on='Sub-Schools', \n",
    "                           right_on='Sub-Schools')\n",
    "\n",
    "# Merge enrolment data with type of schools data\n",
    "merged = pd.merge(enrolment_data, merged, \n",
    "                             on='Sub-Schools')\n",
    "# Add teacher data\n",
    "merged = pd.merge(merged, typeofsch_data, \n",
    "                         left_on='Sub-Schools', \n",
    "                         right_on='Sub-Schools')\n",
    "\n",
    "merged.head(1)"
   ]
  },
  {
   "cell_type": "code",
   "execution_count": 21,
   "id": "9f4cf2de-efdc-446d-b7a3-ca503b3341f0",
   "metadata": {},
   "outputs": [
    {
     "data": {
      "text/plain": [
       "900"
      ]
     },
     "execution_count": 21,
     "metadata": {},
     "output_type": "execute_result"
    }
   ],
   "source": [
    "len(merged)"
   ]
  },
  {
   "cell_type": "code",
   "execution_count": 22,
   "id": "fcf50187-6b3f-455f-8545-a2f71c82d994",
   "metadata": {},
   "outputs": [
    {
     "data": {
      "text/plain": [
       "(900, 30)"
      ]
     },
     "execution_count": 22,
     "metadata": {},
     "output_type": "execute_result"
    }
   ],
   "source": [
    "merged.shape"
   ]
  },
  {
   "cell_type": "code",
   "execution_count": 23,
   "id": "36c26255-ae7c-4699-a51f-e1ecc5eb9f75",
   "metadata": {},
   "outputs": [
    {
     "name": "stdout",
     "output_type": "stream",
     "text": [
      "<class 'pandas.core.frame.DataFrame'>\n",
      "RangeIndex: 900 entries, 0 to 899\n",
      "Data columns (total 30 columns):\n",
      " #   Column                     Non-Null Count  Dtype  \n",
      "---  ------                     --------------  -----  \n",
      " 0   Sub-Schools                900 non-null    object \n",
      " 1   Type of Schools_x          900 non-null    object \n",
      " 2   Male_x                     900 non-null    int64  \n",
      " 3   Female_x                   900 non-null    int64  \n",
      " 4   Total_x                    900 non-null    int64  \n",
      " 5   North Central_x            900 non-null    int64  \n",
      " 6   North East_x               900 non-null    int64  \n",
      " 7   North West_x               900 non-null    int64  \n",
      " 8   South East_x               900 non-null    int64  \n",
      " 9   South South_x              900 non-null    int64  \n",
      " 10  South West_x               900 non-null    int64  \n",
      " 11  Demographic information_x  900 non-null    object \n",
      " 12  Male_y                     900 non-null    float64\n",
      " 13  Female_y                   900 non-null    float64\n",
      " 14  Total_y                    900 non-null    float64\n",
      " 15  North Central_y            900 non-null    float64\n",
      " 16  North East_y               900 non-null    float64\n",
      " 17  North West_y               900 non-null    float64\n",
      " 18  South East_y               900 non-null    float64\n",
      " 19  South South_y              900 non-null    float64\n",
      " 20  South West_y               900 non-null    float64\n",
      " 21  Demographic information_y  900 non-null    object \n",
      " 22  Type of Schools_y          900 non-null    object \n",
      " 23  Total                      900 non-null    int64  \n",
      " 24  North Central              900 non-null    int64  \n",
      " 25  North East                 900 non-null    int64  \n",
      " 26  North West                 900 non-null    int64  \n",
      " 27  South East                 900 non-null    int64  \n",
      " 28  South South                900 non-null    int64  \n",
      " 29  South West                 900 non-null    int64  \n",
      "dtypes: float64(9), int64(16), object(5)\n",
      "memory usage: 211.1+ KB\n"
     ]
    }
   ],
   "source": [
    "merged.info()"
   ]
  },
  {
   "cell_type": "markdown",
   "id": "afb631da-1657-4cf0-ac0f-4b150c1087ca",
   "metadata": {},
   "source": [
    "### Data Preprocessing and Cleaning\n",
    "Check for any missing values or inconsistencies in the merged dataset. For the merged multiple datasets\n",
    "Inspecting the data to ensure it's ready for analysis and machine learning."
   ]
  },
  {
   "cell_type": "code",
   "execution_count": 24,
   "id": "42cce51d-bda4-4849-be75-668bcf6c3cee",
   "metadata": {},
   "outputs": [
    {
     "data": {
      "text/plain": [
       "Sub-Schools                  0\n",
       "Type of Schools_x            0\n",
       "Male_x                       0\n",
       "Female_x                     0\n",
       "Total_x                      0\n",
       "North Central_x              0\n",
       "North East_x                 0\n",
       "North West_x                 0\n",
       "South East_x                 0\n",
       "South South_x                0\n",
       "South West_x                 0\n",
       "Demographic information_x    0\n",
       "Male_y                       0\n",
       "Female_y                     0\n",
       "Total_y                      0\n",
       "North Central_y              0\n",
       "North East_y                 0\n",
       "North West_y                 0\n",
       "South East_y                 0\n",
       "South South_y                0\n",
       "South West_y                 0\n",
       "Demographic information_y    0\n",
       "Type of Schools_y            0\n",
       "Total                        0\n",
       "North Central                0\n",
       "North East                   0\n",
       "North West                   0\n",
       "South East                   0\n",
       "South South                  0\n",
       "South West                   0\n",
       "dtype: int64"
      ]
     },
     "execution_count": 24,
     "metadata": {},
     "output_type": "execute_result"
    }
   ],
   "source": [
    "# Check for missing values\n",
    "merged.isnull().sum()"
   ]
  },
  {
   "cell_type": "markdown",
   "id": "12ded9b6-601f-4a76-8b19-237aac6cf78b",
   "metadata": {},
   "source": [
    "Note: No missing values"
   ]
  },
  {
   "cell_type": "markdown",
   "id": "2589a243-7e68-4a10-9c92-519f55415672",
   "metadata": {},
   "source": [
    "### Exploratory Data Analysis (EDA)\n",
    "To gain insights from the data, we can analyze the distributions, correlations, and relationships between variables."
   ]
  },
  {
   "cell_type": "markdown",
   "id": "eb4eee82-d2a2-4fcf-9720-87e49ca48c26",
   "metadata": {},
   "source": [
    "#### Demographics and Enrollment:\n",
    "We can plot the total number of male, female, and total learners based on age category and school type. This can help us understand the distribution of students across various regions."
   ]
  },
  {
   "cell_type": "code",
   "execution_count": 25,
   "id": "07dab257-7353-433f-868c-ab48db67d610",
   "metadata": {},
   "outputs": [
    {
     "data": {
      "image/png": "[encoded data removed]",
      "text/plain": [
       "<Figure size 1600x800 with 1 Axes>"
      ]
     },
     "metadata": {},
     "output_type": "display_data"
    }
   ],
   "source": [
    "# Plot total enrollment by region and age category\n",
    "plt.figure(figsize=(16,8))\n",
    "sns.barplot(x='Demographic information_x', y='Total_x', hue='Type of Schools_x', data=merged)\n",
    "plt.xticks(rotation=90)\n",
    "plt.title('Total Enrollment by Region and School Type')\n",
    "plt.show()"
   ]
  },
  {
   "cell_type": "code",
   "execution_count": 26,
   "id": "f15aa89a-41e2-47ae-b1af-1fb2683a968b",
   "metadata": {},
   "outputs": [],
   "source": [
    "# Enrollment by Region and Age:\n",
    "#plt.figure(figsize=(12, 6))\n",
    "#sns.barplot(data=merged, x='Region', y='Enrollment', hue='Age Category')\n",
    "#plt.title('Enrollment by Region and Age Category')\n",
    "#plt.xticks(rotation=45)\n",
    "#plt.show()"
   ]
  },
  {
   "cell_type": "code",
   "execution_count": 27,
   "id": "231e5301-55ad-4d9a-a883-6515918be636",
   "metadata": {},
   "outputs": [],
   "source": [
    "# Teacher-to-Student Ratio\n",
    "#merged['Teacher_Student_Ratio'] = merged['Total Teachers'] / merged['Total Enrollment']\n",
    "#sns.boxplot(data=merged, x='Region', y='Teacher_Student_Ratio')\n",
    "#plt.title('Teacher-to-Student Ratio by Region')\n",
    "#plt.xticks(rotation=45)\n",
    "#plt.show()"
   ]
  },
  {
   "cell_type": "markdown",
   "id": "d5ff3598-a060-4324-8e85-9ae56e0868e1",
   "metadata": {},
   "source": [
    "### Machine Learning for Predictions\n",
    "We'll now build models to predict key outcomes:\n",
    "\n",
    "Predicting Dropout Rates: We can build a regression model to predict dropout rates in different regions. We'll use features like enrollment, teacher data, and infrastructure.\n",
    "Predicting Future Demand for Educational Materials: We can predict the future demand for textbooks based on current enrollment data.\n",
    "Predicting Teacher Shortages: We'll build a model to forecast teacher shortages and identify regions requiring teacher training."
   ]
  },
  {
   "cell_type": "markdown",
   "id": "29b0db82-c4ac-4c48-b13b-b776c8e21159",
   "metadata": {},
   "source": [
    "### Handle Categorical Variables:\n",
    "Encode categorical variables such as Sub-Schools and Type of Schools into numerical values using techniques like one-hot encoding or label encoding."
   ]
  },
  {
   "cell_type": "code",
   "execution_count": 29,
   "id": "d7ad10f2-8e75-4842-9842-4da444013dc9",
   "metadata": {},
   "outputs": [],
   "source": [
    "# Map 'Sub-Schools' to numeric values (Example mapping: you can define based on your dataset)\n",
    "sub_schools_mapping = {\n",
    "    \"ECCDE/Pre-Primary\": 0.0,\n",
    "    \"Primary\": 1.0,\n",
    "    \"JSS\": 2.0\n",
    "}\n",
    "merged[\"Sub-Schools\"] = merged[\"Sub-Schools\"].map(sub_schools_mapping)"
   ]
  },
  {
   "cell_type": "code",
   "execution_count": 31,
   "id": "a8b1c8a9-c8fd-48b0-beb9-e22c43934204",
   "metadata": {},
   "outputs": [],
   "source": [
    "# Map 'Demographic information_y' to numeric values (Example mapping: you can define based on your dataset)\n",
    "demo_info_mapping = {\n",
    "    \"Age 0 - 2\": 0.0,\n",
    "    \"Age 3\": 0.0,\n",
    "    \"Age 3 - 5(Pre-Pry)\": 1.0,\n",
    "    \"Age 5\": 2.0,\n",
    "    \"Age 6 \": 2.0,\n",
    "    \"Age 7\": 2.0,\n",
    "    \"Age 7 - 11(PRY)\": 2.0,\n",
    "    \"Age 11\": 3.0,\n",
    "    \"Age 12\": 3.0,\n",
    "    \"Age 12 - 14(JSS)\": 4.0,\n",
    "    \"Age 14\": 5.0,\n",
    "    \"Age 15\": 5.0,\n",
    "    \"Age 15 and above\": 5.0\n",
    "}\n",
    "merged[\"Demographic information_y\"] = merged[\"Demographic information_y\"].map(demo_info_mapping)"
   ]
  },
  {
   "cell_type": "code",
   "execution_count": null,
   "id": "cc21a217-615b-4b40-8f46-0e3727107cf7",
   "metadata": {},
   "outputs": [],
   "source": []
  },
  {
   "cell_type": "code",
   "execution_count": 32,
   "id": "a626b1f7-c498-44f1-bb65-2d018738b234",
   "metadata": {},
   "outputs": [
    {
     "data": {
      "text/html": [
       "<div>\n",
       "<style scoped>\n",
       "    .dataframe tbody tr th:only-of-type {\n",
       "        vertical-align: middle;\n",
       "    }\n",
       "\n",
       "    .dataframe tbody tr th {\n",
       "        vertical-align: top;\n",
       "    }\n",
       "\n",
       "    .dataframe thead th {\n",
       "        text-align: right;\n",
       "    }\n",
       "</style>\n",
       "<table border=\"1\" class=\"dataframe\">\n",
       "  <thead>\n",
       "    <tr style=\"text-align: right;\">\n",
       "      <th></th>\n",
       "      <th>Sub-Schools</th>\n",
       "      <th>Type of Schools_x</th>\n",
       "      <th>Male_x</th>\n",
       "      <th>Female_x</th>\n",
       "      <th>Total_x</th>\n",
       "      <th>North Central_x</th>\n",
       "      <th>North East_x</th>\n",
       "      <th>North West_x</th>\n",
       "      <th>South East_x</th>\n",
       "      <th>South South_x</th>\n",
       "      <th>...</th>\n",
       "      <th>South West_y</th>\n",
       "      <th>Demographic information_y</th>\n",
       "      <th>Type of Schools_y</th>\n",
       "      <th>Total</th>\n",
       "      <th>North Central</th>\n",
       "      <th>North East</th>\n",
       "      <th>North West</th>\n",
       "      <th>South East</th>\n",
       "      <th>South South</th>\n",
       "      <th>South West</th>\n",
       "    </tr>\n",
       "  </thead>\n",
       "  <tbody>\n",
       "    <tr>\n",
       "      <th>0</th>\n",
       "      <td>0.0</td>\n",
       "      <td>Conventional</td>\n",
       "      <td>3289081</td>\n",
       "      <td>3179945</td>\n",
       "      <td>6469026</td>\n",
       "      <td>852650</td>\n",
       "      <td>475184</td>\n",
       "      <td>1245128</td>\n",
       "      <td>1036354</td>\n",
       "      <td>1186739</td>\n",
       "      <td>...</td>\n",
       "      <td>4.063681e+06</td>\n",
       "      <td>0.0</td>\n",
       "      <td>Conventional</td>\n",
       "      <td>45878</td>\n",
       "      <td>8319</td>\n",
       "      <td>2149</td>\n",
       "      <td>3162</td>\n",
       "      <td>5848</td>\n",
       "      <td>7848</td>\n",
       "      <td>18552</td>\n",
       "    </tr>\n",
       "    <tr>\n",
       "      <th>1</th>\n",
       "      <td>0.0</td>\n",
       "      <td>Conventional</td>\n",
       "      <td>3289081</td>\n",
       "      <td>3179945</td>\n",
       "      <td>6469026</td>\n",
       "      <td>852650</td>\n",
       "      <td>475184</td>\n",
       "      <td>1245128</td>\n",
       "      <td>1036354</td>\n",
       "      <td>1186739</td>\n",
       "      <td>...</td>\n",
       "      <td>4.063681e+06</td>\n",
       "      <td>0.0</td>\n",
       "      <td>Special Needs</td>\n",
       "      <td>241</td>\n",
       "      <td>53</td>\n",
       "      <td>40</td>\n",
       "      <td>29</td>\n",
       "      <td>22</td>\n",
       "      <td>45</td>\n",
       "      <td>52</td>\n",
       "    </tr>\n",
       "    <tr>\n",
       "      <th>2</th>\n",
       "      <td>0.0</td>\n",
       "      <td>Conventional</td>\n",
       "      <td>3289081</td>\n",
       "      <td>3179945</td>\n",
       "      <td>6469026</td>\n",
       "      <td>852650</td>\n",
       "      <td>475184</td>\n",
       "      <td>1245128</td>\n",
       "      <td>1036354</td>\n",
       "      <td>1186739</td>\n",
       "      <td>...</td>\n",
       "      <td>4.063681e+06</td>\n",
       "      <td>0.0</td>\n",
       "      <td>Nomadic</td>\n",
       "      <td>35</td>\n",
       "      <td>5</td>\n",
       "      <td>1</td>\n",
       "      <td>11</td>\n",
       "      <td>4</td>\n",
       "      <td>6</td>\n",
       "      <td>8</td>\n",
       "    </tr>\n",
       "    <tr>\n",
       "      <th>3</th>\n",
       "      <td>0.0</td>\n",
       "      <td>Conventional</td>\n",
       "      <td>3289081</td>\n",
       "      <td>3179945</td>\n",
       "      <td>6469026</td>\n",
       "      <td>852650</td>\n",
       "      <td>475184</td>\n",
       "      <td>1245128</td>\n",
       "      <td>1036354</td>\n",
       "      <td>1186739</td>\n",
       "      <td>...</td>\n",
       "      <td>4.063681e+06</td>\n",
       "      <td>0.0</td>\n",
       "      <td>Migrant Fishermen/Farmers</td>\n",
       "      <td>17</td>\n",
       "      <td>2</td>\n",
       "      <td>3</td>\n",
       "      <td>1</td>\n",
       "      <td>4</td>\n",
       "      <td>4</td>\n",
       "      <td>3</td>\n",
       "    </tr>\n",
       "    <tr>\n",
       "      <th>4</th>\n",
       "      <td>0.0</td>\n",
       "      <td>Conventional</td>\n",
       "      <td>3289081</td>\n",
       "      <td>3179945</td>\n",
       "      <td>6469026</td>\n",
       "      <td>852650</td>\n",
       "      <td>475184</td>\n",
       "      <td>1245128</td>\n",
       "      <td>1036354</td>\n",
       "      <td>1186739</td>\n",
       "      <td>...</td>\n",
       "      <td>4.063681e+06</td>\n",
       "      <td>0.0</td>\n",
       "      <td>Islamiyya</td>\n",
       "      <td>1904</td>\n",
       "      <td>333</td>\n",
       "      <td>408</td>\n",
       "      <td>823</td>\n",
       "      <td>1</td>\n",
       "      <td>8</td>\n",
       "      <td>331</td>\n",
       "    </tr>\n",
       "  </tbody>\n",
       "</table>\n",
       "<p>5 rows × 30 columns</p>\n",
       "</div>"
      ],
      "text/plain": [
       "   Sub-Schools Type of Schools_x   Male_x  Female_x  Total_x  North Central_x  \\\n",
       "0          0.0     Conventional   3289081   3179945  6469026           852650   \n",
       "1          0.0     Conventional   3289081   3179945  6469026           852650   \n",
       "2          0.0     Conventional   3289081   3179945  6469026           852650   \n",
       "3          0.0     Conventional   3289081   3179945  6469026           852650   \n",
       "4          0.0     Conventional   3289081   3179945  6469026           852650   \n",
       "\n",
       "   North East_x  North West_x  South East_x  South South_x  ...  South West_y  \\\n",
       "0        475184       1245128       1036354        1186739  ...  4.063681e+06   \n",
       "1        475184       1245128       1036354        1186739  ...  4.063681e+06   \n",
       "2        475184       1245128       1036354        1186739  ...  4.063681e+06   \n",
       "3        475184       1245128       1036354        1186739  ...  4.063681e+06   \n",
       "4        475184       1245128       1036354        1186739  ...  4.063681e+06   \n",
       "\n",
       "  Demographic information_y           Type of Schools_y  Total  North Central  \\\n",
       "0                       0.0                Conventional  45878           8319   \n",
       "1                       0.0               Special Needs    241             53   \n",
       "2                       0.0                    Nomadic      35              5   \n",
       "3                       0.0  Migrant Fishermen/Farmers      17              2   \n",
       "4                       0.0                  Islamiyya    1904            333   \n",
       "\n",
       "   North East  North West  South East  South South  South West  \n",
       "0        2149        3162        5848         7848       18552  \n",
       "1          40          29          22           45          52  \n",
       "2           1          11           4            6           8  \n",
       "3           3           1           4            4           3  \n",
       "4         408         823           1            8         331  \n",
       "\n",
       "[5 rows x 30 columns]"
      ]
     },
     "execution_count": 32,
     "metadata": {},
     "output_type": "execute_result"
    }
   ],
   "source": [
    "merged.head()"
   ]
  },
  {
   "cell_type": "code",
   "execution_count": 33,
   "id": "f53c445d-9977-4bed-8ac8-de5dcebbccc8",
   "metadata": {},
   "outputs": [
    {
     "data": {
      "text/html": [
       "<div>\n",
       "<style scoped>\n",
       "    .dataframe tbody tr th:only-of-type {\n",
       "        vertical-align: middle;\n",
       "    }\n",
       "\n",
       "    .dataframe tbody tr th {\n",
       "        vertical-align: top;\n",
       "    }\n",
       "\n",
       "    .dataframe thead th {\n",
       "        text-align: right;\n",
       "    }\n",
       "</style>\n",
       "<table border=\"1\" class=\"dataframe\">\n",
       "  <thead>\n",
       "    <tr style=\"text-align: right;\">\n",
       "      <th></th>\n",
       "      <th>Sub-Schools</th>\n",
       "      <th>Type of Schools_x</th>\n",
       "      <th>Male_x</th>\n",
       "      <th>Female_x</th>\n",
       "      <th>Total_x</th>\n",
       "      <th>North Central_x</th>\n",
       "      <th>North East_x</th>\n",
       "      <th>North West_x</th>\n",
       "      <th>South East_x</th>\n",
       "      <th>South South_x</th>\n",
       "      <th>...</th>\n",
       "      <th>South West_y</th>\n",
       "      <th>Demographic information_y</th>\n",
       "      <th>Type of Schools_y</th>\n",
       "      <th>Total</th>\n",
       "      <th>North Central</th>\n",
       "      <th>North East</th>\n",
       "      <th>North West</th>\n",
       "      <th>South East</th>\n",
       "      <th>South South</th>\n",
       "      <th>South West</th>\n",
       "    </tr>\n",
       "  </thead>\n",
       "  <tbody>\n",
       "    <tr>\n",
       "      <th>0</th>\n",
       "      <td>0</td>\n",
       "      <td>0</td>\n",
       "      <td>3289081</td>\n",
       "      <td>3179945</td>\n",
       "      <td>6469026</td>\n",
       "      <td>852650</td>\n",
       "      <td>475184</td>\n",
       "      <td>1245128</td>\n",
       "      <td>1036354</td>\n",
       "      <td>1186739</td>\n",
       "      <td>...</td>\n",
       "      <td>4.063681e+06</td>\n",
       "      <td>0</td>\n",
       "      <td>0</td>\n",
       "      <td>45878</td>\n",
       "      <td>8319</td>\n",
       "      <td>2149</td>\n",
       "      <td>3162</td>\n",
       "      <td>5848</td>\n",
       "      <td>7848</td>\n",
       "      <td>18552</td>\n",
       "    </tr>\n",
       "    <tr>\n",
       "      <th>1</th>\n",
       "      <td>0</td>\n",
       "      <td>0</td>\n",
       "      <td>3289081</td>\n",
       "      <td>3179945</td>\n",
       "      <td>6469026</td>\n",
       "      <td>852650</td>\n",
       "      <td>475184</td>\n",
       "      <td>1245128</td>\n",
       "      <td>1036354</td>\n",
       "      <td>1186739</td>\n",
       "      <td>...</td>\n",
       "      <td>4.063681e+06</td>\n",
       "      <td>0</td>\n",
       "      <td>7</td>\n",
       "      <td>241</td>\n",
       "      <td>53</td>\n",
       "      <td>40</td>\n",
       "      <td>29</td>\n",
       "      <td>22</td>\n",
       "      <td>45</td>\n",
       "      <td>52</td>\n",
       "    </tr>\n",
       "    <tr>\n",
       "      <th>2</th>\n",
       "      <td>0</td>\n",
       "      <td>0</td>\n",
       "      <td>3289081</td>\n",
       "      <td>3179945</td>\n",
       "      <td>6469026</td>\n",
       "      <td>852650</td>\n",
       "      <td>475184</td>\n",
       "      <td>1245128</td>\n",
       "      <td>1036354</td>\n",
       "      <td>1186739</td>\n",
       "      <td>...</td>\n",
       "      <td>4.063681e+06</td>\n",
       "      <td>0</td>\n",
       "      <td>6</td>\n",
       "      <td>35</td>\n",
       "      <td>5</td>\n",
       "      <td>1</td>\n",
       "      <td>11</td>\n",
       "      <td>4</td>\n",
       "      <td>6</td>\n",
       "      <td>8</td>\n",
       "    </tr>\n",
       "    <tr>\n",
       "      <th>3</th>\n",
       "      <td>0</td>\n",
       "      <td>0</td>\n",
       "      <td>3289081</td>\n",
       "      <td>3179945</td>\n",
       "      <td>6469026</td>\n",
       "      <td>852650</td>\n",
       "      <td>475184</td>\n",
       "      <td>1245128</td>\n",
       "      <td>1036354</td>\n",
       "      <td>1186739</td>\n",
       "      <td>...</td>\n",
       "      <td>4.063681e+06</td>\n",
       "      <td>0</td>\n",
       "      <td>5</td>\n",
       "      <td>17</td>\n",
       "      <td>2</td>\n",
       "      <td>3</td>\n",
       "      <td>1</td>\n",
       "      <td>4</td>\n",
       "      <td>4</td>\n",
       "      <td>3</td>\n",
       "    </tr>\n",
       "    <tr>\n",
       "      <th>4</th>\n",
       "      <td>0</td>\n",
       "      <td>0</td>\n",
       "      <td>3289081</td>\n",
       "      <td>3179945</td>\n",
       "      <td>6469026</td>\n",
       "      <td>852650</td>\n",
       "      <td>475184</td>\n",
       "      <td>1245128</td>\n",
       "      <td>1036354</td>\n",
       "      <td>1186739</td>\n",
       "      <td>...</td>\n",
       "      <td>4.063681e+06</td>\n",
       "      <td>0</td>\n",
       "      <td>3</td>\n",
       "      <td>1904</td>\n",
       "      <td>333</td>\n",
       "      <td>408</td>\n",
       "      <td>823</td>\n",
       "      <td>1</td>\n",
       "      <td>8</td>\n",
       "      <td>331</td>\n",
       "    </tr>\n",
       "  </tbody>\n",
       "</table>\n",
       "<p>5 rows × 30 columns</p>\n",
       "</div>"
      ],
      "text/plain": [
       "   Sub-Schools  Type of Schools_x   Male_x  Female_x  Total_x  \\\n",
       "0            0                  0  3289081   3179945  6469026   \n",
       "1            0                  0  3289081   3179945  6469026   \n",
       "2            0                  0  3289081   3179945  6469026   \n",
       "3            0                  0  3289081   3179945  6469026   \n",
       "4            0                  0  3289081   3179945  6469026   \n",
       "\n",
       "   North Central_x  North East_x  North West_x  South East_x  South South_x  \\\n",
       "0           852650        475184       1245128       1036354        1186739   \n",
       "1           852650        475184       1245128       1036354        1186739   \n",
       "2           852650        475184       1245128       1036354        1186739   \n",
       "3           852650        475184       1245128       1036354        1186739   \n",
       "4           852650        475184       1245128       1036354        1186739   \n",
       "\n",
       "   ...  South West_y Demographic information_y  Type of Schools_y  Total  \\\n",
       "0  ...  4.063681e+06                         0                  0  45878   \n",
       "1  ...  4.063681e+06                         0                  7    241   \n",
       "2  ...  4.063681e+06                         0                  6     35   \n",
       "3  ...  4.063681e+06                         0                  5     17   \n",
       "4  ...  4.063681e+06                         0                  3   1904   \n",
       "\n",
       "   North Central  North East  North West  South East  South South  South West  \n",
       "0           8319        2149        3162        5848         7848       18552  \n",
       "1             53          40          29          22           45          52  \n",
       "2              5           1          11           4            6           8  \n",
       "3              2           3           1           4            4           3  \n",
       "4            333         408         823           1            8         331  \n",
       "\n",
       "[5 rows x 30 columns]"
      ]
     },
     "execution_count": 33,
     "metadata": {},
     "output_type": "execute_result"
    }
   ],
   "source": [
    "# Initialize the label encoder\n",
    "label_encoder = LabelEncoder()\n",
    "\n",
    "# Apply label encoding to the categorical columns\n",
    "merged['Sub-Schools'] = label_encoder.fit_transform(merged['Sub-Schools'])\n",
    "merged['Type of Schools_x'] = label_encoder.fit_transform(merged['Type of Schools_x'])\n",
    "merged['Type of Schools_y'] = label_encoder.fit_transform(merged['Type of Schools_y'])\n",
    "merged['Demographic information_y'] = label_encoder.fit_transform(merged['Demographic information_y'])\n",
    "\n",
    "# Verify the changes\n",
    "merged.head()"
   ]
  },
  {
   "cell_type": "code",
   "execution_count": 34,
   "id": "de4efc90-9875-424a-8e1d-635b0a97ec09",
   "metadata": {},
   "outputs": [
    {
     "data": {
      "text/html": [
       "<div>\n",
       "<style scoped>\n",
       "    .dataframe tbody tr th:only-of-type {\n",
       "        vertical-align: middle;\n",
       "    }\n",
       "\n",
       "    .dataframe tbody tr th {\n",
       "        vertical-align: top;\n",
       "    }\n",
       "\n",
       "    .dataframe thead th {\n",
       "        text-align: right;\n",
       "    }\n",
       "</style>\n",
       "<table border=\"1\" class=\"dataframe\">\n",
       "  <thead>\n",
       "    <tr style=\"text-align: right;\">\n",
       "      <th></th>\n",
       "      <th>Sub-Schools</th>\n",
       "      <th>Type of Schools_x</th>\n",
       "      <th>Male_x</th>\n",
       "      <th>Female_x</th>\n",
       "      <th>Total_x</th>\n",
       "      <th>North Central_x</th>\n",
       "      <th>North East_x</th>\n",
       "      <th>North West_x</th>\n",
       "      <th>South East_x</th>\n",
       "      <th>South South_x</th>\n",
       "      <th>...</th>\n",
       "      <th>South East_y</th>\n",
       "      <th>South South_y</th>\n",
       "      <th>South West_y</th>\n",
       "      <th>Total</th>\n",
       "      <th>North Central</th>\n",
       "      <th>North East</th>\n",
       "      <th>North West</th>\n",
       "      <th>South East</th>\n",
       "      <th>South South</th>\n",
       "      <th>South West</th>\n",
       "    </tr>\n",
       "  </thead>\n",
       "  <tbody>\n",
       "    <tr>\n",
       "      <th>0</th>\n",
       "      <td>0</td>\n",
       "      <td>0</td>\n",
       "      <td>3289081</td>\n",
       "      <td>3179945</td>\n",
       "      <td>6469026</td>\n",
       "      <td>852650</td>\n",
       "      <td>475184</td>\n",
       "      <td>1245128</td>\n",
       "      <td>1036354</td>\n",
       "      <td>1186739</td>\n",
       "      <td>...</td>\n",
       "      <td>2.313476e+06</td>\n",
       "      <td>2.809582e+06</td>\n",
       "      <td>4.063681e+06</td>\n",
       "      <td>45878</td>\n",
       "      <td>8319</td>\n",
       "      <td>2149</td>\n",
       "      <td>3162</td>\n",
       "      <td>5848</td>\n",
       "      <td>7848</td>\n",
       "      <td>18552</td>\n",
       "    </tr>\n",
       "  </tbody>\n",
       "</table>\n",
       "<p>1 rows × 28 columns</p>\n",
       "</div>"
      ],
      "text/plain": [
       "   Sub-Schools  Type of Schools_x   Male_x  Female_x  Total_x  \\\n",
       "0            0                  0  3289081   3179945  6469026   \n",
       "\n",
       "   North Central_x  North East_x  North West_x  South East_x  South South_x  \\\n",
       "0           852650        475184       1245128       1036354        1186739   \n",
       "\n",
       "   ...  South East_y South South_y  South West_y  Total  North Central  \\\n",
       "0  ...  2.313476e+06  2.809582e+06  4.063681e+06  45878           8319   \n",
       "\n",
       "   North East  North West  South East  South South  South West  \n",
       "0        2149        3162        5848         7848       18552  \n",
       "\n",
       "[1 rows x 28 columns]"
      ]
     },
     "execution_count": 34,
     "metadata": {},
     "output_type": "execute_result"
    }
   ],
   "source": [
    "# Drop irrelevant or redundant columns\n",
    "columns_to_drop = ['Demographic information_y', 'Type of Schools_y']  # Adjust as needed\n",
    "merged = merged.drop(columns=columns_to_drop, errors='ignore')\n",
    "merged.head(1)"
   ]
  },
  {
   "cell_type": "code",
   "execution_count": 38,
   "id": "61c49fde-fa08-48a5-b3d1-7331249608cf",
   "metadata": {},
   "outputs": [],
   "source": [
    "# Selecting relevant features for machine learning\n",
    "selected_features = [\n",
    "    'Male_x', 'Female_x', 'Total_x',\n",
    "    'North Central_x', 'North East_x', 'North West_x',\n",
    "    'South East_x', 'South South_x', 'South West_y','Sub-Schools', 'Type of Schools_x'\n",
    "]"
   ]
  },
  {
   "cell_type": "markdown",
   "id": "2560c758-aca8-4e3a-a7df-0d63cb615224",
   "metadata": {},
   "source": [
    "### Feature Scaling:\n",
    "Scale numerical features"
   ]
  },
  {
   "cell_type": "code",
   "execution_count": 39,
   "id": "d2d8a68b-729f-4713-8ec1-e270060e2b71",
   "metadata": {},
   "outputs": [
    {
     "data": {
      "text/html": [
       "<div>\n",
       "<style scoped>\n",
       "    .dataframe tbody tr th:only-of-type {\n",
       "        vertical-align: middle;\n",
       "    }\n",
       "\n",
       "    .dataframe tbody tr th {\n",
       "        vertical-align: top;\n",
       "    }\n",
       "\n",
       "    .dataframe thead th {\n",
       "        text-align: right;\n",
       "    }\n",
       "</style>\n",
       "<table border=\"1\" class=\"dataframe\">\n",
       "  <thead>\n",
       "    <tr style=\"text-align: right;\">\n",
       "      <th></th>\n",
       "      <th>Male_x</th>\n",
       "      <th>Female_x</th>\n",
       "      <th>Total_x</th>\n",
       "      <th>North Central_x</th>\n",
       "      <th>North East_x</th>\n",
       "      <th>North West_x</th>\n",
       "      <th>South East_x</th>\n",
       "      <th>South South_x</th>\n",
       "      <th>South West_y</th>\n",
       "      <th>Sub-Schools</th>\n",
       "      <th>Type of Schools_x</th>\n",
       "    </tr>\n",
       "  </thead>\n",
       "  <tbody>\n",
       "    <tr>\n",
       "      <th>0</th>\n",
       "      <td>3289081</td>\n",
       "      <td>3179945</td>\n",
       "      <td>6469026</td>\n",
       "      <td>852650</td>\n",
       "      <td>475184</td>\n",
       "      <td>1245128</td>\n",
       "      <td>1036354</td>\n",
       "      <td>1186739</td>\n",
       "      <td>4.063681e+06</td>\n",
       "      <td>0</td>\n",
       "      <td>0</td>\n",
       "    </tr>\n",
       "  </tbody>\n",
       "</table>\n",
       "</div>"
      ],
      "text/plain": [
       "    Male_x  Female_x  Total_x  North Central_x  North East_x  North West_x  \\\n",
       "0  3289081   3179945  6469026           852650        475184       1245128   \n",
       "\n",
       "   South East_x  South South_x  South West_y  Sub-Schools  Type of Schools_x  \n",
       "0       1036354        1186739  4.063681e+06            0                  0  "
      ]
     },
     "execution_count": 39,
     "metadata": {},
     "output_type": "execute_result"
    }
   ],
   "source": [
    "merged = merged[selected_features]\n",
    "merged.head(1)"
   ]
  },
  {
   "cell_type": "code",
   "execution_count": 40,
   "id": "ab82ca1e-a895-439b-8e85-ab21193d91ba",
   "metadata": {},
   "outputs": [],
   "source": [
    "# Split the dataset for training and testing (if required)\n",
    "X = merged.drop('Total_x', axis=1)  # Replace with your target column\n",
    "y = merged['Total_x']\n",
    "# X_train, X_test, y_train, y_test = train_test_split(X, y, test_size=0.2, random_state=42)"
   ]
  },
  {
   "cell_type": "code",
   "execution_count": null,
   "id": "aa591546-ee04-4d1b-b3a4-753e5edfce1d",
   "metadata": {},
   "outputs": [],
   "source": [
    "# Scaling numerical features\n",
    "#scaler = StandardScaler()  # or MinMaxScaler()\n",
    "#X_train = scaler.fit_transform(X_train)\n",
    "#X_test = scaler.transform(X_test)"
   ]
  },
  {
   "cell_type": "code",
   "execution_count": 41,
   "id": "996b5661-3709-4219-b9cc-2d4011e48bdf",
   "metadata": {},
   "outputs": [],
   "source": [
    "# Scaling numerical features\n",
    "scaler = StandardScaler() \n",
    "X = scaler.fit_transform(X)"
   ]
  },
  {
   "cell_type": "code",
   "execution_count": 42,
   "id": "63894169-df4b-4466-aa89-05fcbc5addd1",
   "metadata": {},
   "outputs": [],
   "source": [
    "X_train, X_test, y_train, y_test = train_test_split(X, y, test_size=0.2, random_state=42)"
   ]
  },
  {
   "cell_type": "markdown",
   "id": "4b3b4bef-bbaf-46ee-9a08-e80bd5092cec",
   "metadata": {},
   "source": [
    "#### Predicting Enrolments\n",
    "We need to create a target variable for dropout rates. If this data is not available, we can use features like Total_x and Total_y (enrollment) to estimate dropouts. If dropout data is available, we'd use it as the target variable."
   ]
  },
  {
   "cell_type": "code",
   "execution_count": 43,
   "id": "bd47fed5-6881-40fc-998a-959f595e16ab",
   "metadata": {},
   "outputs": [
    {
     "name": "stdout",
     "output_type": "stream",
     "text": [
      "Mean Squared Error: 0.0\n",
      "R2_Score: 1.0\n"
     ]
    }
   ],
   "source": [
    "# Train a Random Forest model\n",
    "rf_model = RandomForestRegressor(n_estimators=100, random_state=42)\n",
    "rf_model.fit(X_train, y_train)\n",
    "\n",
    "# Evaluate the model\n",
    "y_pred = rf_model.predict(X_test)\n",
    "mse = mean_squared_error(y_test, y_pred)\n",
    "r2 = r2_score(y_test, y_pred)\n",
    "print(f\"Mean Squared Error: {mse}\")\n",
    "print(f\"R2_Score: {r2}\")"
   ]
  },
  {
   "cell_type": "code",
   "execution_count": 44,
   "id": "1da4a915-73ef-4a35-9d6e-10f74192bdc8",
   "metadata": {},
   "outputs": [
    {
     "name": "stdout",
     "output_type": "stream",
     "text": [
      "Model saved successfully.\n"
     ]
    }
   ],
   "source": [
    "# Save the model\n",
    "with open('enrollment_prediction_model.pkl', 'wb') as file:\n",
    "    pickle.dump(rf_model, file)\n",
    "\n",
    "print(\"Model saved successfully.\")"
   ]
  },
  {
   "cell_type": "code",
   "execution_count": 45,
   "id": "e9299aa4-fcf9-41eb-9cb8-8a63e61648cc",
   "metadata": {},
   "outputs": [
    {
     "name": "stdout",
     "output_type": "stream",
     "text": [
      "Enrolment_m loaded successfully.\n"
     ]
    }
   ],
   "source": [
    "# Load the saved pickle file\n",
    "with open(\"enrollment_model.pkl\", \"rb\") as file:\n",
    "    loaded_enrolment = pickle.load(file)\n",
    "\n",
    "print(\"Enrolment_m loaded successfully.\")"
   ]
  },
  {
   "cell_type": "code",
   "execution_count": null,
   "id": "87b43bad-3e0f-413a-b469-90b1c85720b1",
   "metadata": {},
   "outputs": [],
   "source": [
    "# Save the final merged dataset to a CSV file\n",
    "#merged.to_csv(\"cleaned_education_data.csv\", index=False)\n",
    "#print(\"Datasets have been merged and saved to 'final_merged_data.csv'\")"
   ]
  },
  {
   "cell_type": "code",
   "execution_count": null,
   "id": "e1f74221-9b68-41c4-bffc-95a99870e23f",
   "metadata": {},
   "outputs": [],
   "source": [
    "#pickle.dump(ridge_model, open('House_price_mod.pkl', 'wb'))\n",
    "#LLoad the model from pickle file\n",
    "#House_price = pickle.load(open('House_price_mod.pkl', 'rb'))"
   ]
  },
  {
   "cell_type": "code",
   "execution_count": null,
   "id": "049a15ff-e767-447c-a550-5cc508bef69e",
   "metadata": {},
   "outputs": [],
   "source": [
    "#LLoad the model from pickle file\n",
    "#House_price = pickle.load(open('House_price_mod.pkl', 'rb'))"
   ]
  },
  {
   "cell_type": "code",
   "execution_count": null,
   "id": "109962ea-181d-4c08-bb50-4ba23ef6de1b",
   "metadata": {},
   "outputs": [],
   "source": [
    "# Save model and scaler\n",
    "#with open(\"enrollment_model.pkl\", \"wb\") as f:\n",
    "    #pickle.dump({\"model\": rf_model, \"scaler\": scaler}, f)\n",
    "#print(\"Model saved successfully.\")"
   ]
  },
  {
   "cell_type": "code",
   "execution_count": null,
   "id": "d976ac96-52a8-4be0-96fc-cbb05cd5e937",
   "metadata": {},
   "outputs": [],
   "source": [
    "# Load the saved pickle file\n",
    "#with open(\"enrollment_model.pkl\", \"rb\") as file:\n",
    "    #loaded_enrolment = pickle.load(file)\n",
    "\n",
    "#print(\"Enrolment_m loaded successfully.\")"
   ]
  },
  {
   "cell_type": "code",
   "execution_count": null,
   "id": "3a4436e3-d6a7-414a-ad34-16fc0e2de685",
   "metadata": {},
   "outputs": [],
   "source": [
    "# loaded_enrolment.predict([[0.390097,\t0.418763,\t0.403889,\t0.449192,\t0.020606,\t0.033418,\t0.847668,\t0.733693,\t0.642937,\t-1.333333,\t-1.46385]])"
   ]
  },
  {
   "cell_type": "code",
   "execution_count": null,
   "id": "f93c7c7b-3570-40d4-a5f0-9163427a5477",
   "metadata": {},
   "outputs": [],
   "source": [
    "# Assuming you saved the model with joblib\n",
    "loaded_enrolment = joblib.load('enrollment_model.pkl')\n",
    "\n",
    "# Check if it is indeed a model, not a dictionary\n",
    "print(type(loaded_enrolment))"
   ]
  },
  {
   "cell_type": "code",
   "execution_count": null,
   "id": "bdaaa803-fa11-409e-bec6-cb67b7eeafb6",
   "metadata": {},
   "outputs": [],
   "source": [
    "# Assuming the model is stored in a key 'model' within the dictionary\n",
    "model = loaded_enrolment['model']\n",
    "\n",
    "# Now you can use the predict method\n",
    "prediction = model.predict([[0.390097, 0.418763, 0.449192, 0.020606, 0.033418, 0.847668, 0.733693, 0.642937, -1.333333, -1.46385]])\n",
    "prediction"
   ]
  },
  {
   "cell_type": "code",
   "execution_count": null,
   "id": "0a6d28cc-3d10-4491-9338-1960284fb598",
   "metadata": {},
   "outputs": [],
   "source": [
    "# Load the model from a pickle file\n",
    "#with open('enrollment_model.pkl', 'rb') as file:\n",
    "    #loaded_model = pickle.load(file)\n",
    "\n",
    "# Ensure the loaded object is the model, not a dictionary\n",
    "#if isinstance(loaded_model, dict):\n",
    "    # Access the model from the dictionary, e.g., if the model is under the 'model' key\n",
    "    #model = loaded_model.get('rf_model')  # Or the actual key name used in your dictionary\n",
    "#else:\n",
    "    #model = loaded_model\n",
    "\n",
    "# Now you can safely call the predict method\n",
    "#prediction = model.predict([[0.390097, 0.418763, 0.403889, 0.449192, 0.020606, 0.033418, 0.847668, 0.733693, 0.642937, -1.333333, -1.46385]])\n",
    "\n",
    "#print(prediction)"
   ]
  },
  {
   "cell_type": "markdown",
   "id": "5f346d51-1546-49e2-a764-5cfd030888a6",
   "metadata": {},
   "source": [
    "###  Observations\n",
    "\n",
    "Enrollment:\n",
    "\n",
    "The North-East and North-West regions show the lowest enrollment rates in ECCDE/Pre-Primary education.\n",
    "Nomadic and special needs schools are significantly underrepresented.\n",
    "Teacher Availability:\n",
    "\n",
    "Regions like the South-West have higher proportions of qualified teachers compared to the North-East.\n",
    "Infrastructure:\n",
    "\n",
    "North-Central regions have better classroom conditions than North-East and North-West regions.\n",
    "Community Engagement:\n",
    "\n",
    "Limited special programs for Nomadic and Fisherfolk communities are observed.\n",
    "\n",
    "### Recommendations\n",
    "Resource Allocation:\n",
    "\n",
    "Allocate more resources to regions with low teacher-student ratios and poor infrastructure.\n",
    "Community Engagement:\n",
    "\n",
    "Encourage community leaders to support special needs and nomadic schools.\n",
    "Teacher Training:\n",
    "\n",
    "Invest in teacher training programs, especially in underserved regions.\n",
    "Technology Adoption:\n",
    "\n",
    "Provide digital learning materials and remote education opportunities to bridge gaps.\n",
    "Policy Formulation:\n",
    "\n",
    "Develop region-specific education policies targeting unique community needs."
   ]
  },
  {
   "cell_type": "markdown",
   "id": "714e94d4-7ac9-416c-8165-a6667ccc9dff",
   "metadata": {},
   "source": [
    "### Conclusion and Insights\n",
    "Based on the predictions, we can identify regions with:\n",
    "\n",
    "High dropout rates, which might require immediate intervention.\n",
    "High demand for textbooks, suggesting the need for resource allocation.\n",
    "Teacher shortages, helping to prioritize teacher training initiatives.\n",
    "These insights align with the project's objectives to improve educational access, quality, and inclusivity by fostering community engagement and targeting resources effectively."
   ]
  },
  {
   "cell_type": "code",
   "execution_count": null,
   "id": "adf99f55-d228-416f-8e41-2073b0fffcf5",
   "metadata": {},
   "outputs": [],
   "source": []
  }
 ],
 "metadata": {
  "kernelspec": {
   "display_name": "Python 3 (ipykernel)",
   "language": "python",
   "name": "python3"
  },
  "language_info": {
   "codemirror_mode": {
    "name": "ipython",
    "version": 3
   },
   "file_extension": ".py",
   "mimetype": "text/x-python",
   "name": "python",
   "nbconvert_exporter": "python",
   "pygments_lexer": "ipython3",
   "version": "3.9.18"
  },
  "widgets": {
   "application/vnd.jupyter.widget-state+json": {
    "state": {},
    "version_major": 2,
    "version_minor": 0
   }
  }
 },
 "nbformat": 4,
 "nbformat_minor": 5
}
